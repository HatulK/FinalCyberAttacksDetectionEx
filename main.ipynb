{
 "cells": [
  {
   "cell_type": "code",
   "execution_count": 11,
   "id": "initial_id",
   "metadata": {
    "collapsed": true,
    "ExecuteTime": {
     "end_time": "2024-02-12T08:05:31.904902400Z",
     "start_time": "2024-02-12T08:05:28.383533400Z"
    }
   },
   "outputs": [
    {
     "name": "stdout",
     "output_type": "stream",
     "text": [
      "Requirement already satisfied: pandas in c:\\users\\chen\\anaconda3\\envs\\finalcyberattacksdetectionex\\lib\\site-packages (2.2.0)\n",
      "Requirement already satisfied: numpy in c:\\users\\chen\\anaconda3\\envs\\finalcyberattacksdetectionex\\lib\\site-packages (1.26.4)\n",
      "Requirement already satisfied: matplotlib in c:\\users\\chen\\anaconda3\\envs\\finalcyberattacksdetectionex\\lib\\site-packages (3.8.2)\n",
      "Requirement already satisfied: seaborn in c:\\users\\chen\\anaconda3\\envs\\finalcyberattacksdetectionex\\lib\\site-packages (0.13.2)\n",
      "Requirement already satisfied: scikit-learn in c:\\users\\chen\\anaconda3\\envs\\finalcyberattacksdetectionex\\lib\\site-packages (1.4.0)\n",
      "Requirement already satisfied: kaggle in c:\\users\\chen\\anaconda3\\envs\\finalcyberattacksdetectionex\\lib\\site-packages (1.6.5)\n",
      "Requirement already satisfied: transformers in c:\\users\\chen\\anaconda3\\envs\\finalcyberattacksdetectionex\\lib\\site-packages (4.37.2)\n",
      "Requirement already satisfied: torch in c:\\users\\chen\\anaconda3\\envs\\finalcyberattacksdetectionex\\lib\\site-packages (2.2.0)\n",
      "Requirement already satisfied: datasets in c:\\users\\chen\\anaconda3\\envs\\finalcyberattacksdetectionex\\lib\\site-packages (2.17.0)\n",
      "Requirement already satisfied: accelerate in c:\\users\\chen\\anaconda3\\envs\\finalcyberattacksdetectionex\\lib\\site-packages (0.27.0)\n",
      "Requirement already satisfied: python-dateutil>=2.8.2 in c:\\users\\chen\\anaconda3\\envs\\finalcyberattacksdetectionex\\lib\\site-packages (from pandas) (2.8.2)\n",
      "Requirement already satisfied: pytz>=2020.1 in c:\\users\\chen\\anaconda3\\envs\\finalcyberattacksdetectionex\\lib\\site-packages (from pandas) (2024.1)\n",
      "Requirement already satisfied: tzdata>=2022.7 in c:\\users\\chen\\anaconda3\\envs\\finalcyberattacksdetectionex\\lib\\site-packages (from pandas) (2024.1)\n",
      "Requirement already satisfied: contourpy>=1.0.1 in c:\\users\\chen\\anaconda3\\envs\\finalcyberattacksdetectionex\\lib\\site-packages (from matplotlib) (1.2.0)\n",
      "Requirement already satisfied: cycler>=0.10 in c:\\users\\chen\\anaconda3\\envs\\finalcyberattacksdetectionex\\lib\\site-packages (from matplotlib) (0.12.1)\n",
      "Requirement already satisfied: fonttools>=4.22.0 in c:\\users\\chen\\anaconda3\\envs\\finalcyberattacksdetectionex\\lib\\site-packages (from matplotlib) (4.48.1)\n",
      "Requirement already satisfied: kiwisolver>=1.3.1 in c:\\users\\chen\\anaconda3\\envs\\finalcyberattacksdetectionex\\lib\\site-packages (from matplotlib) (1.4.5)\n",
      "Requirement already satisfied: packaging>=20.0 in c:\\users\\chen\\anaconda3\\envs\\finalcyberattacksdetectionex\\lib\\site-packages (from matplotlib) (23.2)\n",
      "Requirement already satisfied: pillow>=8 in c:\\users\\chen\\anaconda3\\envs\\finalcyberattacksdetectionex\\lib\\site-packages (from matplotlib) (10.2.0)\n",
      "Requirement already satisfied: pyparsing>=2.3.1 in c:\\users\\chen\\anaconda3\\envs\\finalcyberattacksdetectionex\\lib\\site-packages (from matplotlib) (3.1.1)\n",
      "Requirement already satisfied: scipy>=1.6.0 in c:\\users\\chen\\anaconda3\\envs\\finalcyberattacksdetectionex\\lib\\site-packages (from scikit-learn) (1.12.0)\n",
      "Requirement already satisfied: joblib>=1.2.0 in c:\\users\\chen\\anaconda3\\envs\\finalcyberattacksdetectionex\\lib\\site-packages (from scikit-learn) (1.3.2)\n",
      "Requirement already satisfied: threadpoolctl>=2.0.0 in c:\\users\\chen\\anaconda3\\envs\\finalcyberattacksdetectionex\\lib\\site-packages (from scikit-learn) (3.2.0)\n",
      "Requirement already satisfied: six>=1.10 in c:\\users\\chen\\anaconda3\\envs\\finalcyberattacksdetectionex\\lib\\site-packages (from kaggle) (1.16.0)\n",
      "Requirement already satisfied: certifi in c:\\users\\chen\\anaconda3\\envs\\finalcyberattacksdetectionex\\lib\\site-packages (from kaggle) (2024.2.2)\n",
      "Requirement already satisfied: requests in c:\\users\\chen\\anaconda3\\envs\\finalcyberattacksdetectionex\\lib\\site-packages (from kaggle) (2.31.0)\n",
      "Requirement already satisfied: tqdm in c:\\users\\chen\\anaconda3\\envs\\finalcyberattacksdetectionex\\lib\\site-packages (from kaggle) (4.66.2)\n",
      "Requirement already satisfied: python-slugify in c:\\users\\chen\\anaconda3\\envs\\finalcyberattacksdetectionex\\lib\\site-packages (from kaggle) (8.0.4)\n",
      "Requirement already satisfied: urllib3 in c:\\users\\chen\\anaconda3\\envs\\finalcyberattacksdetectionex\\lib\\site-packages (from kaggle) (2.2.0)\n",
      "Requirement already satisfied: bleach in c:\\users\\chen\\anaconda3\\envs\\finalcyberattacksdetectionex\\lib\\site-packages (from kaggle) (6.1.0)\n",
      "Requirement already satisfied: filelock in c:\\users\\chen\\anaconda3\\envs\\finalcyberattacksdetectionex\\lib\\site-packages (from transformers) (3.13.1)\n",
      "Requirement already satisfied: huggingface-hub<1.0,>=0.19.3 in c:\\users\\chen\\anaconda3\\envs\\finalcyberattacksdetectionex\\lib\\site-packages (from transformers) (0.20.3)\n",
      "Requirement already satisfied: pyyaml>=5.1 in c:\\users\\chen\\anaconda3\\envs\\finalcyberattacksdetectionex\\lib\\site-packages (from transformers) (6.0.1)\n",
      "Requirement already satisfied: regex!=2019.12.17 in c:\\users\\chen\\anaconda3\\envs\\finalcyberattacksdetectionex\\lib\\site-packages (from transformers) (2023.12.25)\n",
      "Requirement already satisfied: tokenizers<0.19,>=0.14 in c:\\users\\chen\\anaconda3\\envs\\finalcyberattacksdetectionex\\lib\\site-packages (from transformers) (0.15.2)\n",
      "Requirement already satisfied: safetensors>=0.4.1 in c:\\users\\chen\\anaconda3\\envs\\finalcyberattacksdetectionex\\lib\\site-packages (from transformers) (0.4.2)\n",
      "Requirement already satisfied: typing-extensions>=4.8.0 in c:\\users\\chen\\anaconda3\\envs\\finalcyberattacksdetectionex\\lib\\site-packages (from torch) (4.9.0)\n",
      "Requirement already satisfied: sympy in c:\\users\\chen\\anaconda3\\envs\\finalcyberattacksdetectionex\\lib\\site-packages (from torch) (1.12)\n",
      "Requirement already satisfied: networkx in c:\\users\\chen\\anaconda3\\envs\\finalcyberattacksdetectionex\\lib\\site-packages (from torch) (3.2.1)\n",
      "Requirement already satisfied: jinja2 in c:\\users\\chen\\anaconda3\\envs\\finalcyberattacksdetectionex\\lib\\site-packages (from torch) (3.1.3)\n",
      "Requirement already satisfied: fsspec in c:\\users\\chen\\anaconda3\\envs\\finalcyberattacksdetectionex\\lib\\site-packages (from torch) (2023.10.0)\n",
      "Requirement already satisfied: pyarrow>=12.0.0 in c:\\users\\chen\\anaconda3\\envs\\finalcyberattacksdetectionex\\lib\\site-packages (from datasets) (15.0.0)\n",
      "Requirement already satisfied: pyarrow-hotfix in c:\\users\\chen\\anaconda3\\envs\\finalcyberattacksdetectionex\\lib\\site-packages (from datasets) (0.6)\n",
      "Requirement already satisfied: dill<0.3.9,>=0.3.0 in c:\\users\\chen\\anaconda3\\envs\\finalcyberattacksdetectionex\\lib\\site-packages (from datasets) (0.3.8)\n",
      "Requirement already satisfied: xxhash in c:\\users\\chen\\anaconda3\\envs\\finalcyberattacksdetectionex\\lib\\site-packages (from datasets) (3.4.1)\n",
      "Requirement already satisfied: multiprocess in c:\\users\\chen\\anaconda3\\envs\\finalcyberattacksdetectionex\\lib\\site-packages (from datasets) (0.70.16)\n",
      "Requirement already satisfied: aiohttp in c:\\users\\chen\\anaconda3\\envs\\finalcyberattacksdetectionex\\lib\\site-packages (from datasets) (3.9.3)\n",
      "Requirement already satisfied: psutil in c:\\users\\chen\\anaconda3\\envs\\finalcyberattacksdetectionex\\lib\\site-packages (from accelerate) (5.9.8)\n",
      "Requirement already satisfied: aiosignal>=1.1.2 in c:\\users\\chen\\anaconda3\\envs\\finalcyberattacksdetectionex\\lib\\site-packages (from aiohttp->datasets) (1.3.1)\n",
      "Requirement already satisfied: attrs>=17.3.0 in c:\\users\\chen\\anaconda3\\envs\\finalcyberattacksdetectionex\\lib\\site-packages (from aiohttp->datasets) (23.2.0)\n",
      "Requirement already satisfied: frozenlist>=1.1.1 in c:\\users\\chen\\anaconda3\\envs\\finalcyberattacksdetectionex\\lib\\site-packages (from aiohttp->datasets) (1.4.1)\n",
      "Requirement already satisfied: multidict<7.0,>=4.5 in c:\\users\\chen\\anaconda3\\envs\\finalcyberattacksdetectionex\\lib\\site-packages (from aiohttp->datasets) (6.0.5)\n",
      "Requirement already satisfied: yarl<2.0,>=1.0 in c:\\users\\chen\\anaconda3\\envs\\finalcyberattacksdetectionex\\lib\\site-packages (from aiohttp->datasets) (1.9.4)\n",
      "Requirement already satisfied: charset-normalizer<4,>=2 in c:\\users\\chen\\anaconda3\\envs\\finalcyberattacksdetectionex\\lib\\site-packages (from requests->kaggle) (3.3.2)\n",
      "Requirement already satisfied: idna<4,>=2.5 in c:\\users\\chen\\anaconda3\\envs\\finalcyberattacksdetectionex\\lib\\site-packages (from requests->kaggle) (3.6)\n",
      "Requirement already satisfied: colorama in c:\\users\\chen\\anaconda3\\envs\\finalcyberattacksdetectionex\\lib\\site-packages (from tqdm->kaggle) (0.4.6)\n",
      "Requirement already satisfied: webencodings in c:\\users\\chen\\anaconda3\\envs\\finalcyberattacksdetectionex\\lib\\site-packages (from bleach->kaggle) (0.5.1)\n",
      "Requirement already satisfied: MarkupSafe>=2.0 in c:\\users\\chen\\anaconda3\\envs\\finalcyberattacksdetectionex\\lib\\site-packages (from jinja2->torch) (2.1.5)\n",
      "Requirement already satisfied: text-unidecode>=1.3 in c:\\users\\chen\\anaconda3\\envs\\finalcyberattacksdetectionex\\lib\\site-packages (from python-slugify->kaggle) (1.3)\n",
      "Requirement already satisfied: mpmath>=0.19 in c:\\users\\chen\\anaconda3\\envs\\finalcyberattacksdetectionex\\lib\\site-packages (from sympy->torch) (1.3.0)\n"
     ]
    }
   ],
   "source": [
    "!pip install pandas numpy matplotlib seaborn scikit-learn kaggle transformers torch datasets accelerate -U"
   ]
  },
  {
   "cell_type": "code",
   "execution_count": 1,
   "outputs": [],
   "source": [
    "import pandas as pd\n",
    "import numpy as np\n",
    "import matplotlib.pyplot as plt\n",
    "import seaborn as sns\n",
    "from sklearn.model_selection import train_test_split\n",
    "import torch\n"
   ],
   "metadata": {
    "collapsed": false,
    "ExecuteTime": {
     "end_time": "2024-02-12T08:05:49.794071300Z",
     "start_time": "2024-02-12T08:05:48.685407600Z"
    }
   },
   "id": "4fe47be6fe5dd685"
  },
  {
   "cell_type": "code",
   "execution_count": 2,
   "outputs": [
    {
     "name": "stderr",
     "output_type": "stream",
     "text": [
      "C:\\Users\\Chen\\anaconda3\\envs\\FinalCyberAttacksDetectionEx\\Lib\\site-packages\\huggingface_hub\\repocard.py:105: UserWarning: Repo card metadata block was not found. Setting CardData to empty.\n",
      "  warnings.warn(\"Repo card metadata block was not found. Setting CardData to empty.\")\n"
     ]
    }
   ],
   "source": [
    "from datasets import load_dataset\n",
    "\n",
    "dataset = load_dataset(\"GonzaloA/fake_news\")\n"
   ],
   "metadata": {
    "collapsed": false,
    "ExecuteTime": {
     "end_time": "2024-02-12T08:05:56.381900700Z",
     "start_time": "2024-02-12T08:05:49.794571300Z"
    }
   },
   "id": "90737bcf627a0214"
  },
  {
   "cell_type": "code",
   "execution_count": 3,
   "outputs": [],
   "source": [
    "from transformers import LongformerTokenizer\n",
    "\n",
    "tokenizer = LongformerTokenizer.from_pretrained('allenai/longformer-base-4096')\n",
    "\n",
    "\n",
    "# Function to tokenize the data\n",
    "def tokenize_function(examples):\n",
    "    return tokenizer(examples['text'], padding=\"max_length\", truncation=True, max_length=1024)\n",
    "\n",
    "\n",
    "# Apply tokenization to all splits\n",
    "tokenized_datasets = dataset.map(tokenize_function, batched=True)\n"
   ],
   "metadata": {
    "collapsed": false,
    "ExecuteTime": {
     "end_time": "2024-02-12T08:05:58.521416200Z",
     "start_time": "2024-02-12T08:05:56.385400900Z"
    }
   },
   "id": "42a6212cf0da5071"
  },
  {
   "cell_type": "code",
   "execution_count": 4,
   "outputs": [],
   "source": [
    "tokenized_datasets.set_format(type='torch', columns=['input_ids', 'attention_mask', 'label'])"
   ],
   "metadata": {
    "collapsed": false,
    "ExecuteTime": {
     "end_time": "2024-02-12T08:05:58.529916400Z",
     "start_time": "2024-02-12T08:05:58.522415800Z"
    }
   },
   "id": "f8be1b9571bbff04"
  },
  {
   "cell_type": "code",
   "execution_count": 7,
   "outputs": [
    {
     "name": "stderr",
     "output_type": "stream",
     "text": [
      "Some weights of LongformerForSequenceClassification were not initialized from the model checkpoint at allenai/longformer-base-4096 and are newly initialized: ['classifier.dense.bias', 'classifier.dense.weight', 'classifier.out_proj.bias', 'classifier.out_proj.weight']\n",
      "You should probably TRAIN this model on a down-stream task to be able to use it for predictions and inference.\n"
     ]
    }
   ],
   "source": [
    "from transformers import LongformerForSequenceClassification, Trainer, TrainingArguments\n",
    "\n",
    "model = LongformerForSequenceClassification.from_pretrained('allenai/longformer-base-4096', num_labels=2)\n",
    "\n",
    "training_args = TrainingArguments(\n",
    "    output_dir='./results',\n",
    "    num_train_epochs=3,\n",
    "    per_device_train_batch_size=4,\n",
    "    warmup_steps=500,\n",
    "    weight_decay=0.01,\n",
    "    logging_dir='./logs',\n",
    "    logging_steps=10,\n",
    "    evaluation_strategy=\"epoch\",\n",
    ")\n",
    "\n",
    "trainer = Trainer(\n",
    "    model=model,\n",
    "    args=training_args,\n",
    "    train_dataset=tokenized_datasets['train'],\n",
    "    eval_dataset=tokenized_datasets['validation']\n",
    ")\n"
   ],
   "metadata": {
    "collapsed": false,
    "ExecuteTime": {
     "end_time": "2024-02-12T08:06:35.569538300Z",
     "start_time": "2024-02-12T08:06:35.012254300Z"
    }
   },
   "id": "a77dc7a485dddeb6"
  },
  {
   "cell_type": "code",
   "execution_count": null,
   "outputs": [
    {
     "data": {
      "text/plain": "<IPython.core.display.HTML object>",
      "text/html": "\n    <div>\n      \n      <progress value='2' max='18267' style='width:300px; height:20px; vertical-align: middle;'></progress>\n      [    2/18267 : < :, Epoch 0.00/3]\n    </div>\n    <table border=\"1\" class=\"dataframe\">\n  <thead>\n <tr style=\"text-align: left;\">\n      <th>Epoch</th>\n      <th>Training Loss</th>\n      <th>Validation Loss</th>\n    </tr>\n  </thead>\n  <tbody>\n  </tbody>\n</table><p>"
     },
     "metadata": {},
     "output_type": "display_data"
    }
   ],
   "source": [
    "trainer.train()"
   ],
   "metadata": {
    "collapsed": false,
    "is_executing": true,
    "ExecuteTime": {
     "start_time": "2024-02-12T08:06:35.570038200Z"
    }
   },
   "id": "9e54b6599c5f3783"
  },
  {
   "cell_type": "code",
   "execution_count": null,
   "outputs": [],
   "source": [
    "results = trainer.evaluate(tokenized_datasets['test'])\n",
    "print(results)\n"
   ],
   "metadata": {
    "collapsed": false,
    "is_executing": true
   },
   "id": "7a4e9c5b1f0da0e7"
  },
  {
   "cell_type": "markdown",
   "source": [],
   "metadata": {
    "collapsed": false
   },
   "id": "87ea3b26d755563c"
  }
 ],
 "metadata": {
  "kernelspec": {
   "display_name": "Python 3",
   "language": "python",
   "name": "python3"
  },
  "language_info": {
   "codemirror_mode": {
    "name": "ipython",
    "version": 2
   },
   "file_extension": ".py",
   "mimetype": "text/x-python",
   "name": "python",
   "nbconvert_exporter": "python",
   "pygments_lexer": "ipython2",
   "version": "2.7.6"
  }
 },
 "nbformat": 4,
 "nbformat_minor": 5
}
